{
 "cells": [
  {
   "cell_type": "code",
   "execution_count": 1,
   "id": "450e2f7d-6f0d-484f-b4be-c513d86ce2b2",
   "metadata": {},
   "outputs": [],
   "source": [
    "import numpy as np"
   ]
  },
  {
   "cell_type": "code",
   "execution_count": 4,
   "id": "701a0447-ddbd-442c-96ae-2c0742d029dc",
   "metadata": {},
   "outputs": [],
   "source": [
    "x = np.array([3, 4, 5])\n",
    "y = np.array([4, 9, 7])"
   ]
  },
  {
   "cell_type": "code",
   "execution_count": 5,
   "id": "bbcf4ccc-7a08-4de3-a074-b0c101c272be",
   "metadata": {},
   "outputs": [
    {
     "data": {
      "text/plain": [
       "array([ 7, 13, 12])"
      ]
     },
     "execution_count": 5,
     "metadata": {},
     "output_type": "execute_result"
    }
   ],
   "source": [
    "x + y"
   ]
  },
  {
   "cell_type": "code",
   "execution_count": 7,
   "id": "a7ce5490-8e17-405b-a0a9-8a456f358a20",
   "metadata": {},
   "outputs": [],
   "source": [
    "x = np.array([[1, 2], [3, 4]])"
   ]
  },
  {
   "cell_type": "code",
   "execution_count": 8,
   "id": "3255def0-0500-4afc-8f07-44932d8fe89b",
   "metadata": {},
   "outputs": [
    {
     "data": {
      "text/plain": [
       "2"
      ]
     },
     "execution_count": 8,
     "metadata": {},
     "output_type": "execute_result"
    }
   ],
   "source": [
    "x.ndim"
   ]
  },
  {
   "cell_type": "code",
   "execution_count": 9,
   "id": "07702b48-ea0b-4aea-abe9-30389257750d",
   "metadata": {},
   "outputs": [
    {
     "data": {
      "text/plain": [
       "dtype('int64')"
      ]
     },
     "execution_count": 9,
     "metadata": {},
     "output_type": "execute_result"
    }
   ],
   "source": [
    "x.dtype"
   ]
  },
  {
   "cell_type": "code",
   "execution_count": 10,
   "id": "28264a6a-a584-4946-9a42-4314c9b1f04f",
   "metadata": {},
   "outputs": [
    {
     "data": {
      "text/plain": [
       "dtype('float64')"
      ]
     },
     "execution_count": 10,
     "metadata": {},
     "output_type": "execute_result"
    }
   ],
   "source": [
    "np.array([3.0, 4]).dtype"
   ]
  },
  {
   "cell_type": "code",
   "execution_count": 11,
   "id": "23413229-f641-44bc-b3f8-cbc04ca24750",
   "metadata": {},
   "outputs": [
    {
     "data": {
      "text/plain": [
       "2"
      ]
     },
     "execution_count": 11,
     "metadata": {},
     "output_type": "execute_result"
    }
   ],
   "source": [
    "x.ndim"
   ]
  },
  {
   "cell_type": "code",
   "execution_count": 12,
   "id": "8cf55142-20ef-445a-bfe5-70a2c1add574",
   "metadata": {},
   "outputs": [
    {
     "data": {
      "text/plain": [
       "(2, 2)"
      ]
     },
     "execution_count": 12,
     "metadata": {},
     "output_type": "execute_result"
    }
   ],
   "source": [
    "x.shape"
   ]
  },
  {
   "cell_type": "code",
   "execution_count": 13,
   "id": "39f3e591-46d5-4221-be0b-44240eeb6437",
   "metadata": {},
   "outputs": [
    {
     "data": {
      "text/plain": [
       "np.int64(10)"
      ]
     },
     "execution_count": 13,
     "metadata": {},
     "output_type": "execute_result"
    }
   ],
   "source": [
    "x.sum()"
   ]
  },
  {
   "cell_type": "code",
   "execution_count": 15,
   "id": "24180b84-507a-493a-bf91-bb1868ef6a70",
   "metadata": {},
   "outputs": [
    {
     "name": "stdout",
     "output_type": "stream",
     "text": [
      "Beginning x: [1 2 3 4 5 6]\n",
      "End x: [[1 2 3]\n",
      " [4 5 6]]\n"
     ]
    }
   ],
   "source": [
    "x = np.array([1, 2, 3, 4, 5, 6])\n",
    "print(\"Beginning x:\", x)\n",
    "x_reshape = x.reshape((2,3)) # reshape x into 2 rows and 3 colums\n",
    "print(\"End x:\", x_reshape)"
   ]
  },
  {
   "cell_type": "code",
   "execution_count": 16,
   "id": "9b628800-204b-449e-ad2e-1d7a29fcf59d",
   "metadata": {},
   "outputs": [
    {
     "data": {
      "text/plain": [
       "(2,\n",
       " (2, 3),\n",
       " array([[1, 4],\n",
       "        [2, 5],\n",
       "        [3, 6]]))"
      ]
     },
     "execution_count": 16,
     "metadata": {},
     "output_type": "execute_result"
    }
   ],
   "source": [
    "x_reshape.ndim, x_reshape.shape, x_reshape.T"
   ]
  },
  {
   "cell_type": "code",
   "execution_count": 17,
   "id": "2fdbf2fe-e82b-448d-84b3-392168681937",
   "metadata": {},
   "outputs": [
    {
     "data": {
      "text/plain": [
       "array([1.        , 1.41421356, 1.73205081, 2.        , 2.23606798,\n",
       "       2.44948974])"
      ]
     },
     "execution_count": 17,
     "metadata": {},
     "output_type": "execute_result"
    }
   ],
   "source": [
    "np.sqrt(x)"
   ]
  },
  {
   "cell_type": "code",
   "execution_count": 18,
   "id": "064a40a5-9db2-4fa3-b9df-8a1f723223b6",
   "metadata": {},
   "outputs": [],
   "source": [
    "x = np.random.normal(size=50)"
   ]
  },
  {
   "cell_type": "code",
   "execution_count": 19,
   "id": "504da7d3-f4ff-4d45-9aae-a993c70fcb16",
   "metadata": {},
   "outputs": [
    {
     "data": {
      "text/plain": [
       "(50,)"
      ]
     },
     "execution_count": 19,
     "metadata": {},
     "output_type": "execute_result"
    }
   ],
   "source": [
    "x.shape"
   ]
  },
  {
   "cell_type": "code",
   "execution_count": 20,
   "id": "7196f5c2-844b-4166-a89a-9bac7623561f",
   "metadata": {},
   "outputs": [
    {
     "data": {
      "text/plain": [
       "1"
      ]
     },
     "execution_count": 20,
     "metadata": {},
     "output_type": "execute_result"
    }
   ],
   "source": [
    "x.ndim"
   ]
  },
  {
   "cell_type": "code",
   "execution_count": 21,
   "id": "cc02e7cb-1c90-426f-ae77-697b6bab9aa8",
   "metadata": {},
   "outputs": [],
   "source": [
    "y = x + np.random.normal(loc=50, scale=1, size=50)"
   ]
  },
  {
   "cell_type": "code",
   "execution_count": 22,
   "id": "4d7cd7ab-2436-428d-9996-2faa9f3527e7",
   "metadata": {},
   "outputs": [
    {
     "data": {
      "text/plain": [
       "array([49.0619579 , 48.98486255, 46.92419754, 51.12741617, 48.43440906,\n",
       "       49.76016275, 52.46450143, 50.13456371, 51.06683187, 52.22605807,\n",
       "       51.52659033, 48.36599205, 50.20434146, 48.61270668, 49.21133067,\n",
       "       51.97343878, 51.85569768, 50.36014867, 52.83921514, 50.88041477,\n",
       "       50.1378081 , 52.42368552, 49.65447005, 50.60528639, 50.84929566,\n",
       "       48.02833261, 49.00165041, 50.17640214, 49.27113498, 48.56244988,\n",
       "       50.31965771, 51.57847452, 51.03027884, 49.30007179, 49.98906011,\n",
       "       50.17993405, 51.7250141 , 49.3272869 , 51.50510946, 49.01618385,\n",
       "       49.69157419, 51.24364707, 51.06329091, 50.32387596, 50.60628002,\n",
       "       51.30146157, 48.8632397 , 48.81600566, 52.2073315 , 51.96864889])"
      ]
     },
     "execution_count": 22,
     "metadata": {},
     "output_type": "execute_result"
    }
   ],
   "source": [
    "y"
   ]
  },
  {
   "cell_type": "code",
   "execution_count": 23,
   "id": "04ba8922-7ae6-4c7d-b9e8-ea159cfd26c3",
   "metadata": {},
   "outputs": [
    {
     "data": {
      "text/plain": [
       "array([[1.        , 0.69642802],\n",
       "       [0.69642802, 1.        ]])"
      ]
     },
     "execution_count": 23,
     "metadata": {},
     "output_type": "execute_result"
    }
   ],
   "source": [
    "np.corrcoef(x, y)"
   ]
  },
  {
   "cell_type": "code",
   "execution_count": null,
   "id": "9980af5d-fc34-4c76-a70b-a52ac8575b23",
   "metadata": {},
   "outputs": [],
   "source": []
  }
 ],
 "metadata": {
  "kernelspec": {
   "display_name": "Python [conda env:base] *",
   "language": "python",
   "name": "conda-base-py"
  },
  "language_info": {
   "codemirror_mode": {
    "name": "ipython",
    "version": 3
   },
   "file_extension": ".py",
   "mimetype": "text/x-python",
   "name": "python",
   "nbconvert_exporter": "python",
   "pygments_lexer": "ipython3",
   "version": "3.13.5"
  }
 },
 "nbformat": 4,
 "nbformat_minor": 5
}
